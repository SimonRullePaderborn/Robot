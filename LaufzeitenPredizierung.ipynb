{
  "cells": [
    {
      "cell_type": "markdown",
      "metadata": {
        "id": "view-in-github",
        "colab_type": "text"
      },
      "source": [
        "<a href=\"https://colab.research.google.com/github/SimonRullePaderborn/Robot/blob/main/LaufzeitenPredizierung.ipynb\" target=\"_parent\"><img src=\"https://colab.research.google.com/assets/colab-badge.svg\" alt=\"Open In Colab\"/></a>"
      ]
    },
    {
      "cell_type": "code",
      "execution_count": null,
      "metadata": {
        "id": "lqO5zTN05qiX"
      },
      "outputs": [],
      "source": [
        "liste_moeglicher_ziele=[]\n",
        "for j1_winkel in range(-180,185,10):\n",
        "  for j2_winkel in range(-180,185,10):\n",
        "    if abs(j1_winkel)+abs(j2_winkel)<=180:\n",
        "      liste_moeglicher_ziele.append([j1_winkel,j2_winkel])"
      ]
    },
    {
      "cell_type": "code",
      "execution_count": null,
      "metadata": {
        "id": "Sl3nIZ4tAphZ"
      },
      "outputs": [],
      "source": [
        "startposition=[0,0]\n",
        "speeds=[10,30,50]"
      ]
    },
    {
      "cell_type": "code",
      "execution_count": null,
      "metadata": {
        "id": "rq6-mTdWCj8w"
      },
      "outputs": [],
      "source": [
        "Versuche=[]\n",
        "for speed in speeds:\n",
        "  for ziel in liste_moeglicher_ziele:\n",
        "    Versuche.append(ziel+[speed])"
      ]
    },
    {
      "cell_type": "code",
      "execution_count": null,
      "metadata": {
        "id": "GBFoEprfDLFL"
      },
      "outputs": [],
      "source": [
        "Versuche[::10]\n"
      ]
    },
    {
      "cell_type": "markdown",
      "source": [
        "# Einlesen der Daten"
      ],
      "metadata": {
        "id": "2VlH_Ll6wJA0"
      }
    },
    {
      "cell_type": "code",
      "execution_count": null,
      "metadata": {
        "id": "PZq6WD6He1na"
      },
      "outputs": [],
      "source": [
        "!wget https://raw.githubusercontent.com/SimonRullePaderborn/Robot/main/Recorded_Data.csv"
      ]
    },
    {
      "cell_type": "markdown",
      "metadata": {
        "id": "L3GN6xUXfSwe"
      },
      "source": [
        "Download der Daten aus dem Github Repository. "
      ]
    },
    {
      "cell_type": "code",
      "execution_count": null,
      "metadata": {
        "id": "QUqsVUIV5T2B"
      },
      "outputs": [],
      "source": [
        "!pip install tensorflow\n",
        "!pip install keras"
      ]
    },
    {
      "cell_type": "code",
      "execution_count": null,
      "metadata": {
        "id": "uOzV9p2F5jyb"
      },
      "outputs": [],
      "source": [
        "import tensorflow as tf\n",
        "import keras\n",
        "import numpy as np\n",
        "import pandas as pd\n",
        "from sklearn.model_selection import train_test_split"
      ]
    },
    {
      "cell_type": "code",
      "execution_count": null,
      "metadata": {
        "id": "FloY7tGdowTH"
      },
      "outputs": [],
      "source": [
        "df = pd.read_csv('Recorded_Data.csv', names=[\"j1_Degree\", \"j2_Degree\", \"Speed\", \"Time\"])"
      ]
    },
    {
      "cell_type": "markdown",
      "metadata": {
        "id": "CJ2Rz1CQUPsG"
      },
      "source": [
        "Importieren der Daten, sowie die Zuweisung der Spaltennahmen"
      ]
    },
    {
      "cell_type": "code",
      "execution_count": null,
      "metadata": {
        "colab": {
          "base_uri": "https://localhost:8080/",
          "height": 206
        },
        "id": "N3NiVCGjjCeE",
        "outputId": "61fcbc20-c210-494e-b6fd-d23885f2f6d7"
      },
      "outputs": [
        {
          "output_type": "execute_result",
          "data": {
            "text/plain": [
              "   j1_Degree  j2_Degree  Speed      Time\n",
              "0        -90          0     10  4.826906\n",
              "1        -80        -10     10  4.379949\n",
              "2        -80          0     10  4.384195\n",
              "3        -80         10     10  4.268559\n",
              "4        -70        -20     10  3.819944"
            ],
            "text/html": [
              "\n",
              "  <div id=\"df-c9875171-f508-426b-a37b-6a13380cf19b\">\n",
              "    <div class=\"colab-df-container\">\n",
              "      <div>\n",
              "<style scoped>\n",
              "    .dataframe tbody tr th:only-of-type {\n",
              "        vertical-align: middle;\n",
              "    }\n",
              "\n",
              "    .dataframe tbody tr th {\n",
              "        vertical-align: top;\n",
              "    }\n",
              "\n",
              "    .dataframe thead th {\n",
              "        text-align: right;\n",
              "    }\n",
              "</style>\n",
              "<table border=\"1\" class=\"dataframe\">\n",
              "  <thead>\n",
              "    <tr style=\"text-align: right;\">\n",
              "      <th></th>\n",
              "      <th>j1_Degree</th>\n",
              "      <th>j2_Degree</th>\n",
              "      <th>Speed</th>\n",
              "      <th>Time</th>\n",
              "    </tr>\n",
              "  </thead>\n",
              "  <tbody>\n",
              "    <tr>\n",
              "      <th>0</th>\n",
              "      <td>-90</td>\n",
              "      <td>0</td>\n",
              "      <td>10</td>\n",
              "      <td>4.826906</td>\n",
              "    </tr>\n",
              "    <tr>\n",
              "      <th>1</th>\n",
              "      <td>-80</td>\n",
              "      <td>-10</td>\n",
              "      <td>10</td>\n",
              "      <td>4.379949</td>\n",
              "    </tr>\n",
              "    <tr>\n",
              "      <th>2</th>\n",
              "      <td>-80</td>\n",
              "      <td>0</td>\n",
              "      <td>10</td>\n",
              "      <td>4.384195</td>\n",
              "    </tr>\n",
              "    <tr>\n",
              "      <th>3</th>\n",
              "      <td>-80</td>\n",
              "      <td>10</td>\n",
              "      <td>10</td>\n",
              "      <td>4.268559</td>\n",
              "    </tr>\n",
              "    <tr>\n",
              "      <th>4</th>\n",
              "      <td>-70</td>\n",
              "      <td>-20</td>\n",
              "      <td>10</td>\n",
              "      <td>3.819944</td>\n",
              "    </tr>\n",
              "  </tbody>\n",
              "</table>\n",
              "</div>\n",
              "      <button class=\"colab-df-convert\" onclick=\"convertToInteractive('df-c9875171-f508-426b-a37b-6a13380cf19b')\"\n",
              "              title=\"Convert this dataframe to an interactive table.\"\n",
              "              style=\"display:none;\">\n",
              "        \n",
              "  <svg xmlns=\"http://www.w3.org/2000/svg\" height=\"24px\"viewBox=\"0 0 24 24\"\n",
              "       width=\"24px\">\n",
              "    <path d=\"M0 0h24v24H0V0z\" fill=\"none\"/>\n",
              "    <path d=\"M18.56 5.44l.94 2.06.94-2.06 2.06-.94-2.06-.94-.94-2.06-.94 2.06-2.06.94zm-11 1L8.5 8.5l.94-2.06 2.06-.94-2.06-.94L8.5 2.5l-.94 2.06-2.06.94zm10 10l.94 2.06.94-2.06 2.06-.94-2.06-.94-.94-2.06-.94 2.06-2.06.94z\"/><path d=\"M17.41 7.96l-1.37-1.37c-.4-.4-.92-.59-1.43-.59-.52 0-1.04.2-1.43.59L10.3 9.45l-7.72 7.72c-.78.78-.78 2.05 0 2.83L4 21.41c.39.39.9.59 1.41.59.51 0 1.02-.2 1.41-.59l7.78-7.78 2.81-2.81c.8-.78.8-2.07 0-2.86zM5.41 20L4 18.59l7.72-7.72 1.47 1.35L5.41 20z\"/>\n",
              "  </svg>\n",
              "      </button>\n",
              "      \n",
              "  <style>\n",
              "    .colab-df-container {\n",
              "      display:flex;\n",
              "      flex-wrap:wrap;\n",
              "      gap: 12px;\n",
              "    }\n",
              "\n",
              "    .colab-df-convert {\n",
              "      background-color: #E8F0FE;\n",
              "      border: none;\n",
              "      border-radius: 50%;\n",
              "      cursor: pointer;\n",
              "      display: none;\n",
              "      fill: #1967D2;\n",
              "      height: 32px;\n",
              "      padding: 0 0 0 0;\n",
              "      width: 32px;\n",
              "    }\n",
              "\n",
              "    .colab-df-convert:hover {\n",
              "      background-color: #E2EBFA;\n",
              "      box-shadow: 0px 1px 2px rgba(60, 64, 67, 0.3), 0px 1px 3px 1px rgba(60, 64, 67, 0.15);\n",
              "      fill: #174EA6;\n",
              "    }\n",
              "\n",
              "    [theme=dark] .colab-df-convert {\n",
              "      background-color: #3B4455;\n",
              "      fill: #D2E3FC;\n",
              "    }\n",
              "\n",
              "    [theme=dark] .colab-df-convert:hover {\n",
              "      background-color: #434B5C;\n",
              "      box-shadow: 0px 1px 3px 1px rgba(0, 0, 0, 0.15);\n",
              "      filter: drop-shadow(0px 1px 2px rgba(0, 0, 0, 0.3));\n",
              "      fill: #FFFFFF;\n",
              "    }\n",
              "  </style>\n",
              "\n",
              "      <script>\n",
              "        const buttonEl =\n",
              "          document.querySelector('#df-c9875171-f508-426b-a37b-6a13380cf19b button.colab-df-convert');\n",
              "        buttonEl.style.display =\n",
              "          google.colab.kernel.accessAllowed ? 'block' : 'none';\n",
              "\n",
              "        async function convertToInteractive(key) {\n",
              "          const element = document.querySelector('#df-c9875171-f508-426b-a37b-6a13380cf19b');\n",
              "          const dataTable =\n",
              "            await google.colab.kernel.invokeFunction('convertToInteractive',\n",
              "                                                     [key], {});\n",
              "          if (!dataTable) return;\n",
              "\n",
              "          const docLinkHtml = 'Like what you see? Visit the ' +\n",
              "            '<a target=\"_blank\" href=https://colab.research.google.com/notebooks/data_table.ipynb>data table notebook</a>'\n",
              "            + ' to learn more about interactive tables.';\n",
              "          element.innerHTML = '';\n",
              "          dataTable['output_type'] = 'display_data';\n",
              "          await google.colab.output.renderOutput(dataTable, element);\n",
              "          const docLink = document.createElement('div');\n",
              "          docLink.innerHTML = docLinkHtml;\n",
              "          element.appendChild(docLink);\n",
              "        }\n",
              "      </script>\n",
              "    </div>\n",
              "  </div>\n",
              "  "
            ]
          },
          "metadata": {},
          "execution_count": 5
        }
      ],
      "source": [
        "df.head()"
      ]
    },
    {
      "cell_type": "code",
      "execution_count": null,
      "metadata": {
        "colab": {
          "base_uri": "https://localhost:8080/"
        },
        "id": "trBQLTxxsaFP",
        "outputId": "d76b10a3-c570-43ca-fefe-71bdbb31cd7b"
      },
      "outputs": [
        {
          "output_type": "stream",
          "name": "stdout",
          "text": [
            "     j1_Degree  j2_Degree  Speed      Time\n",
            "0          -90          0     10  4.826906\n",
            "1          -80        -10     10  4.379949\n",
            "2          -80          0     10  4.384195\n",
            "3          -80         10     10  4.268559\n",
            "4          -70        -20     10  3.819944\n",
            "..         ...        ...    ...       ...\n",
            "540         80          0     50  1.243056\n",
            "541         80         10     50  1.244489\n",
            "542         90          0     50  1.356405\n",
            "543         32        -80     22  2.140223\n",
            "544        -10        -34     70  0.683716\n",
            "\n",
            "[545 rows x 4 columns]\n"
          ]
        }
      ],
      "source": [
        "print(df)"
      ]
    },
    {
      "cell_type": "code",
      "execution_count": null,
      "metadata": {
        "colab": {
          "base_uri": "https://localhost:8080/"
        },
        "id": "JBCfwdU_glGt",
        "outputId": "fa5811d8-375d-4948-be74-c484a8ebc5da"
      },
      "outputs": [
        {
          "output_type": "stream",
          "name": "stdout",
          "text": [
            "545\n"
          ]
        }
      ],
      "source": [
        "print(len(df.index))"
      ]
    },
    {
      "cell_type": "code",
      "execution_count": null,
      "metadata": {
        "id": "XsTLFUSEskip"
      },
      "outputs": [],
      "source": [
        "data = df.iloc[:-2] "
      ]
    },
    {
      "cell_type": "markdown",
      "metadata": {
        "id": "SJNh8-bVUah7"
      },
      "source": [
        "Mit \"df.iloc[:-2]\" werden die letzten beien Einträge aus dem Trainingsdatenset genommen. Die dort gespeicherten Werte [32,-80,22,2.140223264694214] sowie\n",
        "[-10,-34,70,0.6837155818939209] habe ich manuell mit bewussten Abweichungen vom sonst regulären Messschema aufzeichnen lassen, mit dem Ziel am Ende das Netz auch auf diese, noch stärker unbekannte Form, testen zu können. Das \"Minus-Zeichen\" vor der 2 drückt dabei aus, dass es **letzten** zwei Zeilen sind.\n"
      ]
    },
    {
      "cell_type": "code",
      "execution_count": null,
      "metadata": {
        "colab": {
          "base_uri": "https://localhost:8080/"
        },
        "id": "6xm-xyw1vjKU",
        "outputId": "433b1b5e-5775-45c7-beaa-86b906e59197"
      },
      "outputs": [
        {
          "output_type": "stream",
          "name": "stdout",
          "text": [
            "     j1_Degree  j2_Degree  Speed      Time\n",
            "0          -90          0     10  4.826906\n",
            "1          -80        -10     10  4.379949\n",
            "2          -80          0     10  4.384195\n",
            "3          -80         10     10  4.268559\n",
            "4          -70        -20     10  3.819944\n",
            "..         ...        ...    ...       ...\n",
            "538         70         20     50  1.130942\n",
            "539         80        -10     50  1.244369\n",
            "540         80          0     50  1.243056\n",
            "541         80         10     50  1.244489\n",
            "542         90          0     50  1.356405\n",
            "\n",
            "[543 rows x 4 columns]\n"
          ]
        }
      ],
      "source": [
        "print(data)"
      ]
    },
    {
      "cell_type": "markdown",
      "metadata": {
        "id": "7IyeMZFCrey9"
      },
      "source": [
        "# Interpolieren"
      ]
    },
    {
      "cell_type": "code",
      "execution_count": null,
      "metadata": {
        "id": "_5DLHvsd1vBa"
      },
      "outputs": [],
      "source": [
        "interpolate_train = data[data.index % 11 !=0]\n",
        "print('Anzahl der Daten im Trainingsset: '+ str(len(interpolate_train.index)))\n",
        "print(interpolate_train)\n",
        "\n",
        "\n",
        "interpolate_evaluate = data[data.index %11 == 0]\n",
        "print('anzahl der Daten im Evaluateset: '+ str(len(interpolate_evaluate.index)))\n",
        "print(interpolate_evaluate)"
      ]
    },
    {
      "cell_type": "markdown",
      "metadata": {
        "id": "Qcx_aUMSVtLl"
      },
      "source": [
        "Für das Trainings-Datensatz wird jede 11. Zeile aus den Raw-Daten ausgeschlossen. Ausschließlich jede 11. wird dagegen in das Evaluierungs-Datensatz aufgenommen."
      ]
    },
    {
      "cell_type": "code",
      "execution_count": null,
      "metadata": {
        "id": "SFYG2pft2813"
      },
      "outputs": [],
      "source": [
        "array_inter_train_x = interpolate_train[['j1_Degree', 'j2_Degree', 'Speed']].to_numpy()\n",
        "array_inter_train_y = interpolate_train[['Time']].to_numpy()\n",
        "\n",
        "array_inter_evaluate_x = interpolate_evaluate[['j1_Degree', 'j2_Degree', 'Speed']].to_numpy()\n",
        "array_inter_evaluate_y = interpolate_evaluate[['Time']].to_numpy()"
      ]
    },
    {
      "cell_type": "markdown",
      "metadata": {
        "id": "q6jV5wOkfDur"
      },
      "source": [
        "Konvertrietung der Dataframes to Numpy-Arrays."
      ]
    },
    {
      "cell_type": "code",
      "execution_count": null,
      "metadata": {
        "colab": {
          "base_uri": "https://localhost:8080/"
        },
        "id": "RymnLqwV9OrY",
        "outputId": "7ea37012-5e59-4b1a-c7e1-56825c231d38"
      },
      "outputs": [
        {
          "output_type": "execute_result",
          "data": {
            "text/plain": [
              "(493, 3)"
            ]
          },
          "metadata": {},
          "execution_count": 11
        }
      ],
      "source": [
        "array_inter_train_x.shape\n",
        "#array_inter_train_y.shape\n",
        "#array_inter_evaluate_x.shape \n",
        "#array_inter_evaluate_y.shape"
      ]
    },
    {
      "cell_type": "code",
      "execution_count": null,
      "metadata": {
        "colab": {
          "base_uri": "https://localhost:8080/"
        },
        "id": "8upSkC9X4RxS",
        "outputId": "1546d455-426f-4a9f-a233-b9f1732f3fb4"
      },
      "outputs": [
        {
          "output_type": "stream",
          "name": "stdout",
          "text": [
            "[[-80 -10  10]\n",
            " [-80   0  10]\n",
            " [-80  10  10]\n",
            " ...\n",
            " [ 80   0  50]\n",
            " [ 80  10  50]\n",
            " [ 90   0  50]]\n"
          ]
        }
      ],
      "source": [
        "print(array_inter_train_x)"
      ]
    },
    {
      "cell_type": "code",
      "execution_count": null,
      "metadata": {
        "colab": {
          "base_uri": "https://localhost:8080/"
        },
        "id": "nVgIO2kF8KpW",
        "outputId": "713bb37b-4165-4ee0-a070-19ca86dfa9eb"
      },
      "outputs": [
        {
          "output_type": "execute_result",
          "data": {
            "text/plain": [
              "(493, 3)"
            ]
          },
          "metadata": {},
          "execution_count": 13
        }
      ],
      "source": [
        "array_inter_train_x.shape"
      ]
    },
    {
      "cell_type": "code",
      "execution_count": null,
      "metadata": {
        "colab": {
          "base_uri": "https://localhost:8080/"
        },
        "id": "sQB-tcl3W8Uz",
        "outputId": "4d4e1f45-8228-414f-fab3-b86b33acbf8d"
      },
      "outputs": [
        {
          "output_type": "stream",
          "name": "stdout",
          "text": [
            "[[-80 -10  10]\n",
            " [-80   0  10]\n",
            " [-80  10  10]\n",
            " ...\n",
            " [ 80   0  50]\n",
            " [ 80  10  50]\n",
            " [ 90   0  50]]\n"
          ]
        }
      ],
      "source": [
        "print(array_inter_train_x)"
      ]
    },
    {
      "cell_type": "code",
      "execution_count": null,
      "metadata": {
        "id": "aoO_Nn6-F3lN"
      },
      "outputs": [],
      "source": [
        "print(array_inter_train_y)"
      ]
    },
    {
      "cell_type": "code",
      "execution_count": null,
      "metadata": {
        "id": "I6XiP-4-521b"
      },
      "outputs": [],
      "source": [
        "model_inter=keras.models.Sequential()"
      ]
    },
    {
      "cell_type": "code",
      "execution_count": null,
      "metadata": {
        "id": "S79GfHie6QWO"
      },
      "outputs": [],
      "source": [
        "i = 0\n",
        "while i < 10:\n",
        "  model_inter.add(keras.layers.Dense(4,activation='relu'))\n",
        "  i = i + 1 "
      ]
    },
    {
      "cell_type": "code",
      "execution_count": null,
      "metadata": {
        "id": "eq19FBkH7Grp"
      },
      "outputs": [],
      "source": [
        "model_inter.add(keras.layers.Dense(1,activation='linear'))"
      ]
    },
    {
      "cell_type": "code",
      "execution_count": null,
      "metadata": {
        "id": "7RJp1_iY7iyF"
      },
      "outputs": [],
      "source": [
        "model_inter.compile(loss='mse',optimizer=tf.keras.optimizers.Adam())"
      ]
    },
    {
      "cell_type": "code",
      "execution_count": null,
      "metadata": {
        "id": "MbmgoUkG7pW5"
      },
      "outputs": [],
      "source": [
        "model_inter.fit(array_inter_train_x,array_inter_train_y,epochs=1000,batch_size=10)"
      ]
    },
    {
      "cell_type": "code",
      "execution_count": null,
      "metadata": {
        "colab": {
          "base_uri": "https://localhost:8080/"
        },
        "id": "QcWnGM2f79Lz",
        "outputId": "7cc7a6a8-3212-4f5b-9440-4e784c0db608"
      },
      "outputs": [
        {
          "output_type": "stream",
          "name": "stdout",
          "text": [
            "2/2 [==============================] - 0s 7ms/step - loss: 0.0660\n"
          ]
        }
      ],
      "source": [
        "metric=model_inter.evaluate(array_inter_evaluate_x, array_inter_evaluate_y)"
      ]
    },
    {
      "cell_type": "code",
      "execution_count": null,
      "metadata": {
        "colab": {
          "base_uri": "https://localhost:8080/"
        },
        "id": "2ceTMSnr9ES7",
        "outputId": "b89221ea-f4f9-4e49-c01b-485f7cc010bc"
      },
      "outputs": [
        {
          "output_type": "stream",
          "name": "stdout",
          "text": [
            "1/1 [==============================] - 0s 32ms/step\n"
          ]
        },
        {
          "output_type": "execute_result",
          "data": {
            "text/plain": [
              "2.4741075"
            ]
          },
          "metadata": {},
          "execution_count": 23
        }
      ],
      "source": [
        "model_inter.predict([[32,-80,22]])[0][0]\n",
        "#32,-80,22,2.140223264694214\n",
        "#-10,-34,70,0.6837155818939209"
      ]
    },
    {
      "cell_type": "code",
      "execution_count": null,
      "metadata": {
        "id": "uBUjgW9MHKi1"
      },
      "outputs": [],
      "source": [
        "model_inter.summary()"
      ]
    },
    {
      "cell_type": "markdown",
      "metadata": {
        "id": "2Vnf9dEeZzNr"
      },
      "source": [
        "# Extrapolieren\n"
      ]
    },
    {
      "cell_type": "code",
      "execution_count": null,
      "metadata": {
        "colab": {
          "base_uri": "https://localhost:8080/"
        },
        "id": "WuCet28PanYS",
        "outputId": "ce42b79e-6cfe-46d2-c2ef-9d0dd9911b94"
      },
      "outputs": [
        {
          "output_type": "stream",
          "name": "stdout",
          "text": [
            "543\n"
          ]
        }
      ],
      "source": [
        "print(len(data.index))"
      ]
    },
    {
      "cell_type": "code",
      "execution_count": null,
      "metadata": {
        "id": "yyFf7tqEZyI4"
      },
      "outputs": [],
      "source": [
        "extrapolate_train = data.iloc[:362] \n",
        "print('Anzahl der Daten im Trainingsset: '+ str(len(interpolate_train.index)))\n",
        "print(interpolate_train)\n",
        "\n",
        "\n",
        "extrapolate_evaluate = data.iloc[:-181] \n",
        "print('anzahl der Daten im Evaluateset: '+ str(len(interpolate_evaluate.index)))\n",
        "print(interpolate_evaluate)"
      ]
    },
    {
      "cell_type": "markdown",
      "source": [
        "Zum extrapolieren werden in das Train-Datenset die Speed Werte 10 sowie 30 genommen. Das Evaluate-Datenset besteht aus den Daten, die mit Speed 50 aufgenommen wurden. "
      ],
      "metadata": {
        "id": "BBPTMRXh0rkI"
      }
    },
    {
      "cell_type": "code",
      "execution_count": null,
      "metadata": {
        "id": "ZlmOKQlfd-zU"
      },
      "outputs": [],
      "source": [
        "array_extrapolate_train_x = extrapolate_train[['j1_Degree', 'j2_Degree', 'Speed']].to_numpy()\n",
        "array_extrapolate_train_y = extrapolate_train[['Time']].to_numpy()\n",
        "\n",
        "array_extrapolate_evaluate_x = extrapolate_evaluate[['j1_Degree', 'j2_Degree', 'Speed']].to_numpy()\n",
        "array_extrapolate_evaluate_y = extrapolate_evaluate[['Time']].to_numpy()"
      ]
    },
    {
      "cell_type": "code",
      "source": [
        "model_extra=keras.models.Sequential()"
      ],
      "metadata": {
        "id": "ZjznGPz4o13U"
      },
      "execution_count": null,
      "outputs": []
    },
    {
      "cell_type": "code",
      "source": [
        "i = 0\n",
        "while i < 3:\n",
        "  model_extra.add(keras.layers.Dense(4,activation='relu'))\n",
        "  i = i + 1 "
      ],
      "metadata": {
        "id": "Z1DYgXr4o5ZB"
      },
      "execution_count": null,
      "outputs": []
    },
    {
      "cell_type": "code",
      "source": [
        "model_extra.add(keras.layers.Dense(1,activation='linear'))"
      ],
      "metadata": {
        "id": "2mo7sDhipEYT"
      },
      "execution_count": null,
      "outputs": []
    },
    {
      "cell_type": "code",
      "source": [
        "model_extra.compile(loss='mse',optimizer=tf.keras.optimizers.Adam())"
      ],
      "metadata": {
        "id": "nMup6MVupT7u"
      },
      "execution_count": null,
      "outputs": []
    },
    {
      "cell_type": "code",
      "source": [
        "model_extra.fit(array_inter_train_x,array_inter_train_y,epochs=10,batch_size=10)"
      ],
      "metadata": {
        "id": "GJv8zsn8pIdo"
      },
      "execution_count": null,
      "outputs": []
    },
    {
      "cell_type": "code",
      "source": [
        "metric=model_extra.evaluate(array_extrapolate_evaluate_x, array_extrapolate_evaluate_y)"
      ],
      "metadata": {
        "colab": {
          "base_uri": "https://localhost:8080/"
        },
        "id": "Z-0ZSqVtrOhm",
        "outputId": "4d485e80-35cc-4d2b-e812-824009f12998"
      },
      "execution_count": null,
      "outputs": [
        {
          "output_type": "stream",
          "name": "stdout",
          "text": [
            "12/12 [==============================] - 0s 3ms/step - loss: 0.0940\n"
          ]
        }
      ]
    },
    {
      "cell_type": "code",
      "source": [
        "model_extra.predict([[60,-20,50]])[0][0]\n",
        "#60,-20,50,1.0199153423309326"
      ],
      "metadata": {
        "colab": {
          "base_uri": "https://localhost:8080/"
        },
        "id": "7VvbGPGSrcm4",
        "outputId": "16fe3eb1-21fe-46e5-8526-285f73cb4a88"
      },
      "execution_count": null,
      "outputs": [
        {
          "output_type": "stream",
          "name": "stdout",
          "text": [
            "1/1 [==============================] - 0s 69ms/step\n"
          ]
        },
        {
          "output_type": "execute_result",
          "data": {
            "text/plain": [
              "0.86125016"
            ]
          },
          "metadata": {},
          "execution_count": 58
        }
      ]
    }
  ],
  "metadata": {
    "colab": {
      "provenance": [],
      "authorship_tag": "ABX9TyMKjb8R7g2ZaWHrhDBmDuKy",
      "include_colab_link": true
    },
    "kernelspec": {
      "display_name": "Python 3",
      "name": "python3"
    },
    "language_info": {
      "name": "python"
    }
  },
  "nbformat": 4,
  "nbformat_minor": 0
}